{
 "cells": [
  {
   "cell_type": "code",
   "execution_count": null,
   "id": "175e16a2",
   "metadata": {},
   "outputs": [],
   "source": [
    "import random as rn"
   ]
  },
  {
   "cell_type": "code",
   "execution_count": null,
   "id": "5faf61e6",
   "metadata": {},
   "outputs": [],
   "source": [
    "def praca_domowa():\n",
    "    lista = []\n",
    "    p = []\n",
    "    np = []\n",
    "    uchwyt = open('wynik.txt', 'a')\n",
    "    for i in range(100):\n",
    "        x = rn.randrange(64, 100, 1)\n",
    "        lista.append(x)\n",
    "        if x % 2 == 0:\n",
    "            p.append(x)\n",
    "            p.sort()\n",
    "        else:\n",
    "            np.append(x)\n",
    "            np.sort(reverse=True)\n",
    "    uchwyt.write('Liczby parzyste: ' + str(p))\n",
    "    uchwyt.write('\\nLiczby nieparzyste: ' + str(np))\n",
    "    if sum(p) > sum(np):\n",
    "        p1 = 'Suma wartości elementów PARZYSTYCH jest większa'\n",
    "        print(p1)\n",
    "        uchwyt.write('\\nWniosek: ' + p1 + '\\n')\n",
    "    elif sum(p) < sum(np):\n",
    "        np1 = 'Suma wartości elementów NIEPARZYSTYCH jest większa'\n",
    "        print(np1)\n",
    "        uchwyt.write('\\nWniosek: ' + np1 + '\\n')\n",
    "    else:\n",
    "        rowno = 'Suma wartości elementów jest RÓWNA'\n",
    "        print(rowno)\n",
    "        uchwyt.write('\\nWniosek: ' + rowno + '\\n')\n",
    "    uchwyt.close()\n",
    "\n",
    "praca_domowa()\n",
    "\n",
    "\n",
    "while True:\n",
    "    again = input('Czy chcesz wykonać to jeszcze raz? TAK lub NIE: ').upper()\n",
    "    if again == 'TAK':\n",
    "        praca_domowa()\n",
    "    elif again == 'NIE':\n",
    "        break\n",
    "    else:\n",
    "        print('Wybierz TAK lub NIE')"
   ]
  }
 ],
 "metadata": {
  "kernelspec": {
   "display_name": "Python 3 (ipykernel)",
   "language": "python",
   "name": "python3"
  },
  "language_info": {
   "codemirror_mode": {
    "name": "ipython",
    "version": 3
   },
   "file_extension": ".py",
   "mimetype": "text/x-python",
   "name": "python",
   "nbconvert_exporter": "python",
   "pygments_lexer": "ipython3",
   "version": "3.9.7"
  }
 },
 "nbformat": 4,
 "nbformat_minor": 5
}
