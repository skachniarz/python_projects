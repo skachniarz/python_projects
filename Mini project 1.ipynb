{
 "cells": [
  {
   "cell_type": "code",
   "execution_count": null,
   "id": "175e16a2",
   "metadata": {},
   "outputs": [],
   "source": [
    "import random as rn"
   ]
  },
  {
   "cell_type": "code",
   "execution_count": null,
   "id": "5faf61e6",
   "metadata": {},
   "outputs": [],
   "source": [
    "def homework():\n",
    "    lista = []\n",
    "    e = []\n",
    "    o = []\n",
    "    uchwyt = open('output.txt', 'a')\n",
    "    for i in range(100):\n",
    "        x = rn.randrange(64, 100, 1)\n",
    "        lista.append(x)\n",
    "        if x % 2 == 0:\n",
    "            e.append(x)\n",
    "            e.sort()\n",
    "        else:\n",
    "            o.append(x)\n",
    "            o.sort(reverse=True)\n",
    "    uchwyt.write('Even numbers: ' + str(e))\n",
    "    uchwyt.write('\\nOdd numbers: ' + str(o))\n",
    "    if sum(e) > sum(o):\n",
    "        e1 = 'The sum of EVEN numbers is greater'\n",
    "        print(e1)\n",
    "        uchwyt.write('\\nConclusion: ' + e1 + '\\n')\n",
    "    elif sum(e) < sum(o):\n",
    "        o1 = 'The sum of ODD numbers is greater'\n",
    "        print(o1)\n",
    "        uchwyt.write('\\nConclusion: ' + o1 + '\\n')\n",
    "    else:\n",
    "        rowno = 'The sum of numbers is equal'\n",
    "        print(rowno)\n",
    "        uchwyt.write('\\nConclusion: ' + rowno + '\\n')\n",
    "    uchwyt.close()\n",
    "\n",
    "homework()\n",
    "\n",
    "\n",
    "while True:\n",
    "    again = input('Do you want to do it once again? YES or NO: ').upper()\n",
    "    if again == 'YES':\n",
    "        homework()\n",
    "    elif again == 'NO':\n",
    "        break\n",
    "    else:\n",
    "        print('Enter YES or NO')"
   ]
  }
 ],
 "metadata": {
  "kernelspec": {
   "display_name": "Python 3 (ipykernel)",
   "language": "python",
   "name": "python3"
  },
  "language_info": {
   "codemirror_mode": {
    "name": "ipython",
    "version": 3
   },
   "file_extension": ".py",
   "mimetype": "text/x-python",
   "name": "python",
   "nbconvert_exporter": "python",
   "pygments_lexer": "ipython3",
   "version": "3.9.7"
  }
 },
 "nbformat": 4,
 "nbformat_minor": 5
}
