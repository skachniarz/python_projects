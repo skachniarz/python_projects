{
 "cells": [
  {
   "cell_type": "code",
   "execution_count": 1,
   "id": "da39d168",
   "metadata": {},
   "outputs": [],
   "source": [
    "import numpy as np\n",
    "import matplotlib.pyplot as plt"
   ]
  },
  {
   "cell_type": "code",
   "execution_count": 2,
   "id": "f837965d",
   "metadata": {},
   "outputs": [
    {
     "name": "stdout",
     "output_type": "stream",
     "text": [
      "Enter the amount: 10\n",
      "Do you want to add another amount? Y or N: y\n",
      "Enter the amount: ff\n",
      "Enter the number value!\n",
      "Enter the amount: 30\n",
      "Do you want to add another amount? Y or N: y\n",
      "Enter the amount: 22\n",
      "Do you want to add another amount? Y or N: y\n",
      "Enter the amount: 16\n",
      "Do you want to add another amount? Y or N: y\n",
      "Enter the amount: 52\n",
      "Do you want to add another amount? Y or N: n\n",
      "You have entered an amount of your savings from 5 months.\n",
      "The sum of your savings is equal to 130zł. And on average per month you save 26.0zł.\n"
     ]
    },
    {
     "data": {
      "image/png": "[encoded data removed]",
      "text/plain": [
       "<Figure size 432x288 with 1 Axes>"
      ]
     },
     "metadata": {
      "needs_background": "light"
     },
     "output_type": "display_data"
    }
   ],
   "source": [
    "piggy_bank = []\n",
    "class Savings_data:\n",
    "    def __init__(self, amount):\n",
    "        self.amount = amount\n",
    "    def check_amount(self):\n",
    "        while len(piggy_bank) <= 12:\n",
    "            try:\n",
    "                retry = int(input('Enter the amount: '))\n",
    "                piggy_bank.append(retry)\n",
    "                x = str(input('Do you want to add another amount? Y or N: ')).upper()\n",
    "                if x == \"Y\":\n",
    "                    if len(piggy_bank) == 12:\n",
    "                        print('You have entered the maximum number of amounts for the calendar year.')\n",
    "                        break\n",
    "                    else:\n",
    "                        continue\n",
    "                elif x == 'N':\n",
    "                    print('You have entered an amount of your savings from ' + str(len(piggy_bank)) + ' months.')\n",
    "                    break\n",
    "                else:\n",
    "                    print('Enter Y or N')\n",
    "            except ValueError:\n",
    "                print('Enter the number value!')\n",
    "\n",
    "\n",
    "class Calculations(Savings_data):\n",
    "    def __init__(self, sum_, mean_):\n",
    "        self.sum_ = sum_\n",
    "        self.mean_ = mean_\n",
    "    def calculate_sum(self):\n",
    "        return sum(piggy_bank)\n",
    "    def calculate_mean(self):\n",
    "        return np.mean(piggy_bank)\n",
    "\n",
    "\n",
    "class Plot(Calculations):\n",
    "    def show_plot(self):\n",
    "        plt.hist(piggy_bank)\n",
    "        plt.title('Savings Plot')\n",
    "        plt.xlabel('Amount')\n",
    "        plt.ylabel('Number of months')\n",
    "        plt.show()\n",
    "        return\n",
    "\n",
    "\n",
    "x = Savings_data(piggy_bank)\n",
    "y = Calculations(piggy_bank, piggy_bank)\n",
    "z = Plot(piggy_bank, piggy_bank)\n",
    "x.check_amount()\n",
    "print('The sum of your savings is equal to ' + str(y.calculate_sum()) + 'zł. And on average per month you save ' + str(y.calculate_mean()) + 'zł.')\n",
    "z.show_plot()"
   ]
  },
  {
   "cell_type": "code",
   "execution_count": null,
   "id": "54e2e0e3",
   "metadata": {},
   "outputs": [],
   "source": []
  }
 ],
 "metadata": {
  "kernelspec": {
   "display_name": "Python 3 (ipykernel)",
   "language": "python",
   "name": "python3"
  },
  "language_info": {
   "codemirror_mode": {
    "name": "ipython",
    "version": 3
   },
   "file_extension": ".py",
   "mimetype": "text/x-python",
   "name": "python",
   "nbconvert_exporter": "python",
   "pygments_lexer": "ipython3",
   "version": "3.9.7"
  }
 },
 "nbformat": 4,
 "nbformat_minor": 5
}
