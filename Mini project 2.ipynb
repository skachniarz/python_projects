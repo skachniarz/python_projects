{
 "cells": [
  {
   "cell_type": "code",
   "execution_count": null,
   "id": "da39d168",
   "metadata": {},
   "outputs": [],
   "source": [
    "import numpy as np\n",
    "import matplotlib.pyplot as plt"
   ]
  },
  {
   "cell_type": "code",
   "execution_count": null,
   "id": "f837965d",
   "metadata": {},
   "outputs": [],
   "source": [
    "skarbonka = []\n",
    "class Oszczednosci_dane:\n",
    "    def __init__(self, kwota):\n",
    "        self.kwota = kwota\n",
    "    def sprawdz_kwote(self):\n",
    "        while len(skarbonka) <= 12:\n",
    "            try:\n",
    "                retry = int(input('Podaj kwote: '))\n",
    "                skarbonka.append(retry)\n",
    "                x = str(input('Chcesz dodać kolejną kwotę? T lub N: ')).upper()\n",
    "                if x == \"T\":\n",
    "                    if len(skarbonka) == 12:\n",
    "                        print('Podałeś maksymalna liczbe kwot dla roku kalendarzowego.')\n",
    "                        break\n",
    "                    else:\n",
    "                        continue\n",
    "                elif x == 'N':\n",
    "                    print('Podałeś liczbę kwot za ' + str(len(skarbonka)) + ' miesiące.')\n",
    "                    break\n",
    "                else:\n",
    "                    print('Wybierz T lub N')\n",
    "            except ValueError:\n",
    "                print('Podaj wartość liczbową!')\n",
    "\n",
    "\n",
    "class Obliczenia(Oszczednosci_dane):\n",
    "    def __init__(self, suma, srednia):\n",
    "        self.suma = suma\n",
    "        self.srednia = srednia\n",
    "    def oblicz_sume(self):\n",
    "        return sum(skarbonka)\n",
    "    def oblicz_srednia(self):\n",
    "        return np.mean(skarbonka)\n",
    "\n",
    "\n",
    "class Wykres(Obliczenia):\n",
    "    def pokaz_wykres(self):\n",
    "        plt.hist(skarbonka)\n",
    "        plt.title('Wykres oszczędności')\n",
    "        plt.xlabel('Kwota')\n",
    "        plt.ylabel('Liczba miesiący')\n",
    "        plt.show()\n",
    "        return\n",
    "\n",
    "\n",
    "x = Oszczednosci_dane(skarbonka)\n",
    "y = Obliczenia(skarbonka, skarbonka)\n",
    "z = Wykres(skarbonka, skarbonka)\n",
    "x.sprawdz_kwote()\n",
    "print('Suma twoich oszczędności wynosi ' + str(y.oblicz_sume()) + 'zł. Zaś średnio w miesiącu oszczędzasz ' + str(y.oblicz_srednia()) + 'zł.')\n",
    "z.pokaz_wykres()"
   ]
  }
 ],
 "metadata": {
  "kernelspec": {
   "display_name": "Python 3 (ipykernel)",
   "language": "python",
   "name": "python3"
  },
  "language_info": {
   "codemirror_mode": {
    "name": "ipython",
    "version": 3
   },
   "file_extension": ".py",
   "mimetype": "text/x-python",
   "name": "python",
   "nbconvert_exporter": "python",
   "pygments_lexer": "ipython3",
   "version": "3.9.7"
  }
 },
 "nbformat": 4,
 "nbformat_minor": 5
}
