{
 "cells": [
  {
   "cell_type": "code",
   "execution_count": null,
   "id": "2166a580",
   "metadata": {
    "scrolled": true
   },
   "outputs": [],
   "source": [
    "import spotipy\n",
    "import time\n",
    "from spotipy.oauth2 import SpotifyClientCredentials\n",
    "import pandas as pd\n",
    "import sys\n",
    "import requests\n",
    "#mport requests_oauthlib\n",
    "import plotly.express as px"
   ]
  },
  {
   "cell_type": "code",
   "execution_count": null,
   "id": "ec0c7126",
   "metadata": {},
   "outputs": [],
   "source": [
    "client_id = \"5df1ce77a68942fe8c89e8da7cf4e177\"\n",
    "client_secret = \"7e22edf656734c9ab13c13859493a70c\"\n",
    "client_credentials_manager = SpotifyClientCredentials(client_id=client_id, client_secret=client_secret)\n",
    "sp = spotipy.Spotify(client_credentials_manager=client_credentials_manager) "
   ]
  },
  {
   "cell_type": "code",
   "execution_count": null,
   "id": "7c548d9d",
   "metadata": {},
   "outputs": [],
   "source": [
    "def getTrackIDs(user, playlist_id):\n",
    "    ids = []\n",
    "    playlist = sp.user_playlist(user, playlist_id)\n",
    "    for item in playlist['tracks']['items']:\n",
    "        track = item['track']\n",
    "        ids.append(track['id'])\n",
    "    return ids\n",
    "\n",
    "ids = getTrackIDs('Sebastian Kachniarz','23RSJQkb2GqNeCSi0fx7gX')"
   ]
  },
  {
   "cell_type": "code",
   "execution_count": null,
   "id": "f76db558",
   "metadata": {},
   "outputs": [],
   "source": [
    "def getTrackFeatures(id):\n",
    "    meta = sp.track(id)\n",
    "    features = sp.audio_features(id)\n",
    "    name = meta['name']\n",
    "    album = meta['album']['name']\n",
    "    artist = meta['album']['artists'][0]['name']\n",
    "    release_date = meta['album']['release_date']\n",
    "    length = meta['duration_ms']\n",
    "    popularity = meta['popularity']\n",
    "    \n",
    "#features\n",
    "    acousticness = features[0]['acousticness']\n",
    "    danceability = features[0]['danceability']\n",
    "    energy = features[0]['energy']\n",
    "    instrumentalness = features[0]['instrumentalness']\n",
    "    liveness = features[0]['liveness']\n",
    "    loudness = features[0]['loudness']\n",
    "    speechiness = features[0]['speechiness']\n",
    "    tempo = features[0]['tempo']\n",
    "    time_signature = features[0]['time_signature']\n",
    "    \n",
    "    track = [name, album, artist, release_date, length, popularity, acousticness,  danceability, energy, instrumentalness, liveness, loudness, speechiness, tempo, time_signature]\n",
    "    return track"
   ]
  },
  {
   "cell_type": "code",
   "execution_count": null,
   "id": "b716519d",
   "metadata": {},
   "outputs": [],
   "source": [
    "tracks = []\n",
    "for i in range(len(ids)):\n",
    "    track = getTrackFeatures(ids[i])\n",
    "    tracks.append(track)\n",
    "\n",
    "df = pd.DataFrame(tracks, columns = ['name', 'album', 'artist', 'release_date', 'length', 'popularity', 'acousticness', 'danceability', 'energy', 'instrumentalness', 'liveness', 'loudness', 'speechiness', 'tempo', 'time_signature'])\n",
    "df.to_csv(\"Spotify_API.csv\", sep=',')\n",
    "df"
   ]
  },
  {
   "cell_type": "code",
   "execution_count": null,
   "id": "2b05244a",
   "metadata": {},
   "outputs": [],
   "source": [
    "from pyspark.sql import SparkSession\n",
    "from pyspark.sql import functions as f\n",
    "from pyspark.sql.window import Window\n",
    "from pyspark.sql.functions import countDistinct\n",
    "\n",
    "spark = SparkSession.builder.appName(\"app\").getOrCreate()\n",
    "df_spark = spark.read.option(\"header\", \"True\").csv('Spotify_API.csv', sep=\",\")\n",
    "df_spark.createOrReplaceTempView(\"spotify_data\")"
   ]
  },
  {
   "cell_type": "code",
   "execution_count": null,
   "id": "052bcbb6",
   "metadata": {},
   "outputs": [],
   "source": [
    "df_spark"
   ]
  },
  {
   "cell_type": "code",
   "execution_count": null,
   "id": "b59044b9",
   "metadata": {},
   "outputs": [],
   "source": [
    "#Few rank tables using sql sentences...\n",
    "\n",
    "spark.sql('''\n",
    "select first(artist) artist, name, round(avg(length)/60000,2) length\n",
    "from spotify_data\n",
    "group by name\n",
    "order by length desc\n",
    "limit 20\n",
    "''').show()"
   ]
  },
  {
   "cell_type": "code",
   "execution_count": null,
   "id": "b7bade5d",
   "metadata": {},
   "outputs": [],
   "source": [
    "spark.sql('''\n",
    "select first(artist) artist, name, popularity\n",
    "from spotify_data\n",
    "order by popularity desc\n",
    "limit 20\n",
    "''').show()"
   ]
  },
  {
   "cell_type": "code",
   "execution_count": null,
   "id": "44d36068",
   "metadata": {},
   "outputs": [],
   "source": [
    "spark.sql('''\n",
    "select first(artist) artist, name, release_date\n",
    "from spotify_data\n",
    "order by release_date asc\n",
    "limit 20\n",
    "''').show()"
   ]
  },
  {
   "cell_type": "code",
   "execution_count": null,
   "id": "910ce28d",
   "metadata": {},
   "outputs": [],
   "source": [
    "spark.sql('''\n",
    "select count(name)\n",
    "from spotify_data\n",
    "''').show()"
   ]
  },
  {
   "cell_type": "code",
   "execution_count": null,
   "id": "999f3c15",
   "metadata": {},
   "outputs": [],
   "source": [
    "fig = px.pie(df, values='length', names='artist')\n",
    "fig.show()"
   ]
  },
  {
   "cell_type": "code",
   "execution_count": null,
   "id": "54e45f2c",
   "metadata": {},
   "outputs": [],
   "source": [
    "df[df['artist']=='[]']\n",
    "data_artist = df[df['artist']!='[]']\n",
    "data_artist.head(10)"
   ]
  },
  {
   "cell_type": "code",
   "execution_count": null,
   "id": "558384ba",
   "metadata": {},
   "outputs": [],
   "source": [
    "df_sort_artist = pd.DataFrame(data_artist.assign(artist=data_artist.artist.str.split(\",\")).explode('artist'))\n",
    "df_sort_artist.tail(10)"
   ]
  },
  {
   "cell_type": "code",
   "execution_count": null,
   "id": "ce42345b",
   "metadata": {},
   "outputs": [],
   "source": [
    "df_sort_artist['artist'] = df_sort_artist.artist.str.replace('[',' ')\n",
    "df_sort_artist['artist'] = df_sort_artist.artist.str.replace(']',' ')"
   ]
  },
  {
   "cell_type": "code",
   "execution_count": null,
   "id": "86074524",
   "metadata": {},
   "outputs": [],
   "source": [
    "n = 30\n",
    "top_n = pd.DataFrame(df_sort_artist['artist'].value_counts()[:n]).reset_index()\n",
    "top_n.rename(columns = {'index':'Artist','artist':'Total_Count'}, inplace = True)\n",
    "top_n"
   ]
  },
  {
   "cell_type": "code",
   "execution_count": null,
   "id": "23bfcda8",
   "metadata": {},
   "outputs": [],
   "source": [
    "fig = px.pie(top_n, values='Total_Count', names='Artist')\n",
    "fig.show()"
   ]
  },
  {
   "cell_type": "code",
   "execution_count": null,
   "id": "006932ed",
   "metadata": {},
   "outputs": [],
   "source": [
    "fig2 = px.scatter(df, x='popularity', y='danceability')\n",
    "fig2.show()"
   ]
  }
 ],
 "metadata": {
  "kernelspec": {
   "display_name": "Python 3 (ipykernel)",
   "language": "python",
   "name": "python3"
  },
  "language_info": {
   "codemirror_mode": {
    "name": "ipython",
    "version": 3
   },
   "file_extension": ".py",
   "mimetype": "text/x-python",
   "name": "python",
   "nbconvert_exporter": "python",
   "pygments_lexer": "ipython3",
   "version": "3.9.7"
  }
 },
 "nbformat": 4,
 "nbformat_minor": 5
}
